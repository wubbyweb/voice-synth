{
 "cells": [
  {
   "cell_type": "code",
   "execution_count": null,
   "id": "2efe0588",
   "metadata": {},
   "outputs": [],
   "source": [
    "!pip install TTS"
   ]
  },
  {
   "cell_type": "code",
   "execution_count": null,
   "id": "e3179ddd",
   "metadata": {},
   "outputs": [],
   "source": [
    "from TTS.utils.generic_utils import download_model\n",
    "\n",
    "# Download a pretrained model\n",
    "model_name = \"tts_models--en--ljspeech--vits\"\n",
    "download_model(model_name)\n"
   ]
  },
  {
   "cell_type": "code",
   "execution_count": 4,
   "id": "f124ab22",
   "metadata": {},
   "outputs": [
    {
     "name": "stdout",
     "output_type": "stream",
     "text": [
      " > tts_models/en/ljspeech/vits is already downloaded.\n",
      " > Using model: vits\n",
      " > Setting up Audio Processor...\n",
      " | > sample_rate:22050\n",
      " | > resample:False\n",
      " | > num_mels:80\n",
      " | > log_func:np.log10\n",
      " | > min_level_db:0\n",
      " | > frame_shift_ms:None\n",
      " | > frame_length_ms:None\n",
      " | > ref_level_db:None\n",
      " | > fft_size:1024\n",
      " | > power:None\n",
      " | > preemphasis:0.0\n",
      " | > griffin_lim_iters:None\n",
      " | > signal_norm:None\n",
      " | > symmetric_norm:None\n",
      " | > mel_fmin:0\n",
      " | > mel_fmax:None\n",
      " | > pitch_fmin:None\n",
      " | > pitch_fmax:None\n",
      " | > spec_gain:20.0\n",
      " | > stft_pad_mode:reflect\n",
      " | > max_norm:1.0\n",
      " | > clip_norm:True\n",
      " | > do_trim_silence:False\n",
      " | > trim_db:60\n",
      " | > do_sound_norm:False\n",
      " | > do_amp_to_db_linear:True\n",
      " | > do_amp_to_db_mel:True\n",
      " | > do_rms_norm:False\n",
      " | > db_level:None\n",
      " | > stats_path:None\n",
      " | > base:10\n",
      " | > hop_length:256\n",
      " | > win_length:1024\n",
      " > Text splitted to sentences.\n",
      "['Hello, welcome to the Coqui Text-to-Speech example!']\n",
      " > Processing time: 0.6358299255371094\n",
      " > Real-time factor: 0.17952327722409933\n",
      "Speech has been synthesized and saved to output.wav\n"
     ]
    }
   ],
   "source": [
    "from TTS.api import TTS\n",
    "\n",
    "# Download and load the TTS model\n",
    "model_name = \"tts_models/en/ljspeech/vits\"\n",
    "TTS_model = TTS(model_name=model_name,progress_bar=True,gpu=False)\n",
    "\n",
    "# Text to synthesize\n",
    "text = \"Hello, welcome to the Coqui Text-to-Speech example!\"\n",
    "\n",
    "# Synthesize the speech\n",
    "TTS_model.tts_to_file(text, file_path=\"output.wav\")\n",
    "\n",
    "print(\"Speech has been synthesized and saved to output.wav\")\n"
   ]
  },
  {
   "cell_type": "code",
   "execution_count": 14,
   "id": "42e4e673",
   "metadata": {},
   "outputs": [
    {
     "name": "stdout",
     "output_type": "stream",
     "text": [
      " > tts_models/en/ljspeech/vits is already downloaded.\n",
      " > Using model: vits\n",
      " > Setting up Audio Processor...\n",
      " | > sample_rate:22050\n",
      " | > resample:False\n",
      " | > num_mels:80\n",
      " | > log_func:np.log10\n",
      " | > min_level_db:0\n",
      " | > frame_shift_ms:None\n",
      " | > frame_length_ms:None\n",
      " | > ref_level_db:None\n",
      " | > fft_size:1024\n",
      " | > power:None\n",
      " | > preemphasis:0.0\n",
      " | > griffin_lim_iters:None\n",
      " | > signal_norm:None\n",
      " | > symmetric_norm:None\n",
      " | > mel_fmin:0\n",
      " | > mel_fmax:None\n",
      " | > pitch_fmin:None\n",
      " | > pitch_fmax:None\n",
      " | > spec_gain:20.0\n",
      " | > stft_pad_mode:reflect\n",
      " | > max_norm:1.0\n",
      " | > clip_norm:True\n",
      " | > do_trim_silence:False\n",
      " | > trim_db:60\n",
      " | > do_sound_norm:False\n",
      " | > do_amp_to_db_linear:True\n",
      " | > do_amp_to_db_mel:True\n",
      " | > do_rms_norm:False\n",
      " | > db_level:None\n",
      " | > stats_path:None\n",
      " | > base:10\n",
      " | > hop_length:256\n",
      " | > win_length:1024\n",
      " > Text splitted to sentences.\n",
      "['Hello world!']\n",
      " > Processing time: 0.278641939163208\n",
      " > Real-time factor: 0.19989766913550028\n"
     ]
    },
    {
     "data": {
      "text/plain": [
       "'out.wav'"
      ]
     },
     "execution_count": 14,
     "metadata": {},
     "output_type": "execute_result"
    }
   ],
   "source": [
    "from TTS.api import TTS\n",
    "\n",
    "tts = TTS(model_name=\"tts_models/en/ljspeech/vits\", progress_bar=True, gpu=False)\n",
    "tts.tts_to_file(text=\"Hello world!\", file_path=\"out.wav\")\n"
   ]
  },
  {
   "cell_type": "markdown",
   "id": "fb5f4d17",
   "metadata": {},
   "source": [
    "# Was not able to sythesis, final error\n",
    "\n",
    "```\n",
    "(.venv) rj@Rajeshs-MacBook-Pro voice-synth % python .venv/lib/python3.10/site-packages/TTS/bin/train_tts.py --config_path \"/Users/rj/Programs/voice-synth/my-voice-dataset/config.json\"\n",
    "Traceback (most recent call last):\n",
    "  File \"/Users/rj/Programs/voice-synth/.venv/lib/python3.10/site-packages/TTS/bin/train_tts.py\", line 71, in <module>\n",
    "    main()\n",
    "  File \"/Users/rj/Programs/voice-synth/.venv/lib/python3.10/site-packages/TTS/bin/train_tts.py\", line 47, in main\n",
    "    train_samples, eval_samples = load_tts_samples(\n",
    "  File \"/Users/rj/Programs/voice-synth/.venv/lib/python3.10/site-packages/TTS/tts/datasets/__init__.py\", line 118, in load_tts_samples\n",
    "    formatter = _get_formatter_by_name(formatter_name)\n",
    "  File \"/Users/rj/Programs/voice-synth/.venv/lib/python3.10/site-packages/TTS/tts/datasets/__init__.py\", line 166, in _get_formatter_by_name\n",
    "    return getattr(thismodule, name.lower())\n",
    "AttributeError: module 'TTS.tts.datasets' has no attribute ''\n",
    "```"
   ]
  },
  {
   "cell_type": "code",
   "execution_count": null,
   "id": "8f55c615",
   "metadata": {},
   "outputs": [],
   "source": [
    "!pip install TTS"
   ]
  },
  {
   "cell_type": "code",
   "execution_count": null,
   "id": "bef0b712",
   "metadata": {},
   "outputs": [],
   "source": [
    "!brew install espeak-ng\n",
    "\n",
    "## the following command will download the model to /Users/rj/Library/Application Support/tts/tts_models--en--ljspeech--vits/  - config.json in this path is required for voice synthesis\n",
    "!tts --text \"hello there\" --model_name tts_models/en/ljspeech/vits"
   ]
  },
  {
   "cell_type": "markdown",
   "id": "20a10dcd",
   "metadata": {},
   "source": [
    "MISC"
   ]
  },
  {
   "cell_type": "code",
   "execution_count": 6,
   "id": "238c4550",
   "metadata": {},
   "outputs": [
    {
     "ename": "SyntaxError",
     "evalue": "invalid syntax (2523261125.py, line 1)",
     "output_type": "error",
     "traceback": [
      "\u001b[0;36m  Cell \u001b[0;32mIn[6], line 1\u001b[0;36m\u001b[0m\n\u001b[0;31m    tts --finetune_path my-voice-dataset \\\u001b[0m\n\u001b[0m                        ^\u001b[0m\n\u001b[0;31mSyntaxError\u001b[0m\u001b[0;31m:\u001b[0m invalid syntax\n"
     ]
    }
   ],
   "source": [
    "## this is a command for inference from command line\n",
    "\n",
    "tts --finetune_path my-voice-dataset \\\n",
    "    --config_path \"/Users/rj/Library/Application Support/tts/tts_models--en--ljspeech--vits/config.json\" \\\n",
    "    --output_path ./output-model \\\n",
    "    --use_cuda true\n",
    "\n"
   ]
  }
 ],
 "metadata": {
  "kernelspec": {
   "display_name": ".venv",
   "language": "python",
   "name": "python3"
  },
  "language_info": {
   "codemirror_mode": {
    "name": "ipython",
    "version": 3
   },
   "file_extension": ".py",
   "mimetype": "text/x-python",
   "name": "python",
   "nbconvert_exporter": "python",
   "pygments_lexer": "ipython3",
   "version": "3.10.17"
  }
 },
 "nbformat": 4,
 "nbformat_minor": 5
}
